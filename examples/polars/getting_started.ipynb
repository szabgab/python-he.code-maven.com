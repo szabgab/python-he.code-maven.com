{
 "cells": [
  {
   "cell_type": "code",
   "execution_count": 1,
   "id": "92422c98-a652-40f1-ac1b-5f3035774cb7",
   "metadata": {},
   "outputs": [
    {
     "name": "stdout",
     "output_type": "stream",
     "text": [
      "Requirement already satisfied: polars in /home/gabor/venv/lib/python3.12/site-packages (1.20.0)\n",
      "Requirement already satisfied: xlsxwriter in /home/gabor/venv/lib/python3.12/site-packages (3.2.0)\n",
      "Requirement already satisfied: fastexcel in /home/gabor/venv/lib/python3.12/site-packages (0.12.1)\n",
      "Requirement already satisfied: pyarrow>=8.0.0 in /home/gabor/venv/lib/python3.12/site-packages (from fastexcel) (19.0.0)\n",
      "Requirement already satisfied: pyarrow in /home/gabor/venv/lib/python3.12/site-packages (19.0.0)\n"
     ]
    }
   ],
   "source": [
    "!pip install polars\n",
    "!pip install xlsxwriter\n",
    "!pip install fastexcel\n",
    "!pip install pyarrow"
   ]
  },
  {
   "cell_type": "code",
   "execution_count": 2,
   "id": "cf85bac6-2cf2-4eb8-8dfb-7bdd178beee2",
   "metadata": {},
   "outputs": [],
   "source": [
    "import polars as pl\n",
    "import datetime as dt"
   ]
  },
  {
   "cell_type": "code",
   "execution_count": 3,
   "id": "f3ec9c7d-8bf7-4c03-8997-bc7034fe08c2",
   "metadata": {},
   "outputs": [
    {
     "name": "stdout",
     "output_type": "stream",
     "text": [
      "shape: (4, 4)\n",
      "┌────────────────┬────────────┬────────┬────────┐\n",
      "│ name           ┆ birthdate  ┆ weight ┆ height │\n",
      "│ ---            ┆ ---        ┆ ---    ┆ ---    │\n",
      "│ str            ┆ date       ┆ f64    ┆ f64    │\n",
      "╞════════════════╪════════════╪════════╪════════╡\n",
      "│ Alice Archer   ┆ 1997-01-10 ┆ 57.9   ┆ 1.56   │\n",
      "│ Ben Brown      ┆ 1985-02-15 ┆ 72.5   ┆ 1.77   │\n",
      "│ Chloe Cooper   ┆ 1983-03-22 ┆ 53.6   ┆ 1.65   │\n",
      "│ Daniel Donovan ┆ 1981-04-30 ┆ 83.1   ┆ 1.75   │\n",
      "└────────────────┴────────────┴────────┴────────┘\n"
     ]
    }
   ],
   "source": [
    "df = pl.DataFrame(\n",
    "    {\n",
    "        \"name\": [\"Alice Archer\", \"Ben Brown\", \"Chloe Cooper\", \"Daniel Donovan\"],\n",
    "        \"birthdate\": [\n",
    "            dt.date(1997, 1, 10),\n",
    "            dt.date(1985, 2, 15),\n",
    "            dt.date(1983, 3, 22),\n",
    "            dt.date(1981, 4, 30),\n",
    "        ],\n",
    "        \"weight\": [57.9, 72.5, 53.6, 83.1],  # (kg)\n",
    "        \"height\": [1.56, 1.77, 1.65, 1.75],  # (m)\n",
    "    }\n",
    ")\n",
    "\n",
    "print(df)"
   ]
  },
  {
   "cell_type": "code",
   "execution_count": 4,
   "id": "53bbef0e-e828-4c24-958b-aeae3ae95200",
   "metadata": {},
   "outputs": [
    {
     "data": {
      "text/html": [
       "<div><style>\n",
       ".dataframe > thead > tr,\n",
       ".dataframe > tbody > tr {\n",
       "  text-align: right;\n",
       "  white-space: pre-wrap;\n",
       "}\n",
       "</style>\n",
       "<small>shape: (4, 4)</small><table border=\"1\" class=\"dataframe\"><thead><tr><th>name</th><th>birthdate</th><th>weight</th><th>height</th></tr><tr><td>str</td><td>date</td><td>f64</td><td>f64</td></tr></thead><tbody><tr><td>&quot;Alice Archer&quot;</td><td>1997-01-10</td><td>57.9</td><td>1.56</td></tr><tr><td>&quot;Ben Brown&quot;</td><td>1985-02-15</td><td>72.5</td><td>1.77</td></tr><tr><td>&quot;Chloe Cooper&quot;</td><td>1983-03-22</td><td>53.6</td><td>1.65</td></tr><tr><td>&quot;Daniel Donovan&quot;</td><td>1981-04-30</td><td>83.1</td><td>1.75</td></tr></tbody></table></div>"
      ],
      "text/plain": [
       "shape: (4, 4)\n",
       "┌────────────────┬────────────┬────────┬────────┐\n",
       "│ name           ┆ birthdate  ┆ weight ┆ height │\n",
       "│ ---            ┆ ---        ┆ ---    ┆ ---    │\n",
       "│ str            ┆ date       ┆ f64    ┆ f64    │\n",
       "╞════════════════╪════════════╪════════╪════════╡\n",
       "│ Alice Archer   ┆ 1997-01-10 ┆ 57.9   ┆ 1.56   │\n",
       "│ Ben Brown      ┆ 1985-02-15 ┆ 72.5   ┆ 1.77   │\n",
       "│ Chloe Cooper   ┆ 1983-03-22 ┆ 53.6   ┆ 1.65   │\n",
       "│ Daniel Donovan ┆ 1981-04-30 ┆ 83.1   ┆ 1.75   │\n",
       "└────────────────┴────────────┴────────┴────────┘"
      ]
     },
     "execution_count": 4,
     "metadata": {},
     "output_type": "execute_result"
    }
   ],
   "source": [
    "df"
   ]
  },
  {
   "cell_type": "code",
   "execution_count": 5,
   "id": "04368ffe-77ef-42b7-9614-49b8d5edd35b",
   "metadata": {},
   "outputs": [
    {
     "data": {
      "text/html": [
       "<div><style>\n",
       ".dataframe > thead > tr,\n",
       ".dataframe > tbody > tr {\n",
       "  text-align: right;\n",
       "  white-space: pre-wrap;\n",
       "}\n",
       "</style>\n",
       "<small>shape: (2, 4)</small><table border=\"1\" class=\"dataframe\"><thead><tr><th>name</th><th>birthdate</th><th>weight</th><th>height</th></tr><tr><td>str</td><td>date</td><td>f64</td><td>f64</td></tr></thead><tbody><tr><td>&quot;Alice Archer&quot;</td><td>1997-01-10</td><td>57.9</td><td>1.56</td></tr><tr><td>&quot;Ben Brown&quot;</td><td>1985-02-15</td><td>72.5</td><td>1.77</td></tr></tbody></table></div>"
      ],
      "text/plain": [
       "shape: (2, 4)\n",
       "┌──────────────┬────────────┬────────┬────────┐\n",
       "│ name         ┆ birthdate  ┆ weight ┆ height │\n",
       "│ ---          ┆ ---        ┆ ---    ┆ ---    │\n",
       "│ str          ┆ date       ┆ f64    ┆ f64    │\n",
       "╞══════════════╪════════════╪════════╪════════╡\n",
       "│ Alice Archer ┆ 1997-01-10 ┆ 57.9   ┆ 1.56   │\n",
       "│ Ben Brown    ┆ 1985-02-15 ┆ 72.5   ┆ 1.77   │\n",
       "└──────────────┴────────────┴────────┴────────┘"
      ]
     },
     "execution_count": 5,
     "metadata": {},
     "output_type": "execute_result"
    }
   ],
   "source": [
    "df.head(2)"
   ]
  },
  {
   "cell_type": "code",
   "execution_count": 6,
   "id": "dd136c83-9767-431e-a723-7c5bed64dcbb",
   "metadata": {},
   "outputs": [
    {
     "data": {
      "text/html": [
       "<div><style>\n",
       ".dataframe > thead > tr,\n",
       ".dataframe > tbody > tr {\n",
       "  text-align: right;\n",
       "  white-space: pre-wrap;\n",
       "}\n",
       "</style>\n",
       "<small>shape: (2, 4)</small><table border=\"1\" class=\"dataframe\"><thead><tr><th>name</th><th>birthdate</th><th>weight</th><th>height</th></tr><tr><td>str</td><td>date</td><td>f64</td><td>f64</td></tr></thead><tbody><tr><td>&quot;Chloe Cooper&quot;</td><td>1983-03-22</td><td>53.6</td><td>1.65</td></tr><tr><td>&quot;Daniel Donovan&quot;</td><td>1981-04-30</td><td>83.1</td><td>1.75</td></tr></tbody></table></div>"
      ],
      "text/plain": [
       "shape: (2, 4)\n",
       "┌────────────────┬────────────┬────────┬────────┐\n",
       "│ name           ┆ birthdate  ┆ weight ┆ height │\n",
       "│ ---            ┆ ---        ┆ ---    ┆ ---    │\n",
       "│ str            ┆ date       ┆ f64    ┆ f64    │\n",
       "╞════════════════╪════════════╪════════╪════════╡\n",
       "│ Chloe Cooper   ┆ 1983-03-22 ┆ 53.6   ┆ 1.65   │\n",
       "│ Daniel Donovan ┆ 1981-04-30 ┆ 83.1   ┆ 1.75   │\n",
       "└────────────────┴────────────┴────────┴────────┘"
      ]
     },
     "execution_count": 6,
     "metadata": {},
     "output_type": "execute_result"
    }
   ],
   "source": [
    "df.tail(2)"
   ]
  },
  {
   "cell_type": "code",
   "execution_count": 7,
   "id": "fb867176-fcb9-47ad-8759-376b67b719c4",
   "metadata": {},
   "outputs": [
    {
     "data": {
      "text/plain": [
       "['__add__',\n",
       " '__annotations__',\n",
       " '__array__',\n",
       " '__arrow_c_stream__',\n",
       " '__bool__',\n",
       " '__class__',\n",
       " '__contains__',\n",
       " '__copy__',\n",
       " '__dataframe__',\n",
       " '__deepcopy__',\n",
       " '__delattr__',\n",
       " '__dict__',\n",
       " '__dir__',\n",
       " '__doc__',\n",
       " '__eq__',\n",
       " '__floordiv__',\n",
       " '__format__',\n",
       " '__ge__',\n",
       " '__getattribute__',\n",
       " '__getitem__',\n",
       " '__getstate__',\n",
       " '__gt__',\n",
       " '__hash__',\n",
       " '__init__',\n",
       " '__init_subclass__',\n",
       " '__iter__',\n",
       " '__le__',\n",
       " '__len__',\n",
       " '__lt__',\n",
       " '__mod__',\n",
       " '__module__',\n",
       " '__mul__',\n",
       " '__ne__',\n",
       " '__new__',\n",
       " '__radd__',\n",
       " '__reduce__',\n",
       " '__reduce_ex__',\n",
       " '__repr__',\n",
       " '__reversed__',\n",
       " '__rmul__',\n",
       " '__setattr__',\n",
       " '__setitem__',\n",
       " '__setstate__',\n",
       " '__sizeof__',\n",
       " '__str__',\n",
       " '__sub__',\n",
       " '__subclasshook__',\n",
       " '__truediv__',\n",
       " '__weakref__',\n",
       " '_accessors',\n",
       " '_cast_all_from_to',\n",
       " '_comp',\n",
       " '_compare_to_non_df',\n",
       " '_compare_to_other_df',\n",
       " '_df',\n",
       " '_div',\n",
       " '_from_arrow',\n",
       " '_from_pandas',\n",
       " '_from_pydf',\n",
       " '_ipython_key_completions_',\n",
       " '_replace',\n",
       " '_repr_html_',\n",
       " '_row_encode',\n",
       " '_to_metadata',\n",
       " '_to_pandas_with_object_columns',\n",
       " '_to_pandas_without_object_columns',\n",
       " 'approx_n_unique',\n",
       " 'bottom_k',\n",
       " 'cast',\n",
       " 'clear',\n",
       " 'clone',\n",
       " 'collect_schema',\n",
       " 'columns',\n",
       " 'corr',\n",
       " 'count',\n",
       " 'describe',\n",
       " 'deserialize',\n",
       " 'drop',\n",
       " 'drop_in_place',\n",
       " 'drop_nans',\n",
       " 'drop_nulls',\n",
       " 'dtypes',\n",
       " 'equals',\n",
       " 'estimated_size',\n",
       " 'explode',\n",
       " 'extend',\n",
       " 'fill_nan',\n",
       " 'fill_null',\n",
       " 'filter',\n",
       " 'flags',\n",
       " 'fold',\n",
       " 'gather_every',\n",
       " 'get_column',\n",
       " 'get_column_index',\n",
       " 'get_columns',\n",
       " 'glimpse',\n",
       " 'group_by',\n",
       " 'group_by_dynamic',\n",
       " 'hash_rows',\n",
       " 'head',\n",
       " 'height',\n",
       " 'hstack',\n",
       " 'insert_column',\n",
       " 'interpolate',\n",
       " 'is_duplicated',\n",
       " 'is_empty',\n",
       " 'is_unique',\n",
       " 'item',\n",
       " 'iter_columns',\n",
       " 'iter_rows',\n",
       " 'iter_slices',\n",
       " 'join',\n",
       " 'join_asof',\n",
       " 'join_where',\n",
       " 'lazy',\n",
       " 'limit',\n",
       " 'map_rows',\n",
       " 'max',\n",
       " 'max_horizontal',\n",
       " 'mean',\n",
       " 'mean_horizontal',\n",
       " 'median',\n",
       " 'melt',\n",
       " 'merge_sorted',\n",
       " 'min',\n",
       " 'min_horizontal',\n",
       " 'n_chunks',\n",
       " 'n_unique',\n",
       " 'null_count',\n",
       " 'partition_by',\n",
       " 'pipe',\n",
       " 'pivot',\n",
       " 'plot',\n",
       " 'product',\n",
       " 'quantile',\n",
       " 'rechunk',\n",
       " 'rename',\n",
       " 'replace_column',\n",
       " 'reverse',\n",
       " 'rolling',\n",
       " 'row',\n",
       " 'rows',\n",
       " 'rows_by_key',\n",
       " 'sample',\n",
       " 'schema',\n",
       " 'select',\n",
       " 'select_seq',\n",
       " 'serialize',\n",
       " 'set_sorted',\n",
       " 'shape',\n",
       " 'shift',\n",
       " 'shrink_to_fit',\n",
       " 'slice',\n",
       " 'sort',\n",
       " 'sql',\n",
       " 'std',\n",
       " 'style',\n",
       " 'sum',\n",
       " 'sum_horizontal',\n",
       " 'tail',\n",
       " 'to_arrow',\n",
       " 'to_dict',\n",
       " 'to_dicts',\n",
       " 'to_dummies',\n",
       " 'to_init_repr',\n",
       " 'to_jax',\n",
       " 'to_numpy',\n",
       " 'to_pandas',\n",
       " 'to_series',\n",
       " 'to_struct',\n",
       " 'to_torch',\n",
       " 'top_k',\n",
       " 'transpose',\n",
       " 'unique',\n",
       " 'unnest',\n",
       " 'unpivot',\n",
       " 'unstack',\n",
       " 'update',\n",
       " 'upsample',\n",
       " 'var',\n",
       " 'vstack',\n",
       " 'width',\n",
       " 'with_columns',\n",
       " 'with_columns_seq',\n",
       " 'with_row_count',\n",
       " 'with_row_index',\n",
       " 'write_avro',\n",
       " 'write_clipboard',\n",
       " 'write_csv',\n",
       " 'write_database',\n",
       " 'write_delta',\n",
       " 'write_excel',\n",
       " 'write_ipc',\n",
       " 'write_ipc_stream',\n",
       " 'write_json',\n",
       " 'write_ndjson',\n",
       " 'write_parquet']"
      ]
     },
     "execution_count": 7,
     "metadata": {},
     "output_type": "execute_result"
    }
   ],
   "source": [
    "dir(df)"
   ]
  },
  {
   "cell_type": "code",
   "execution_count": 8,
   "id": "20213098-4559-4ec5-bbac-4bf6bc97d92a",
   "metadata": {},
   "outputs": [
    {
     "data": {
      "text/html": [
       "<div><style>\n",
       ".dataframe > thead > tr,\n",
       ".dataframe > tbody > tr {\n",
       "  text-align: right;\n",
       "  white-space: pre-wrap;\n",
       "}\n",
       "</style>\n",
       "<small>shape: (9, 5)</small><table border=\"1\" class=\"dataframe\"><thead><tr><th>statistic</th><th>name</th><th>birthdate</th><th>weight</th><th>height</th></tr><tr><td>str</td><td>str</td><td>str</td><td>f64</td><td>f64</td></tr></thead><tbody><tr><td>&quot;count&quot;</td><td>&quot;4&quot;</td><td>&quot;4&quot;</td><td>4.0</td><td>4.0</td></tr><tr><td>&quot;null_count&quot;</td><td>&quot;0&quot;</td><td>&quot;0&quot;</td><td>0.0</td><td>0.0</td></tr><tr><td>&quot;mean&quot;</td><td>null</td><td>&quot;1986-09-04 00:00:00&quot;</td><td>66.775</td><td>1.6825</td></tr><tr><td>&quot;std&quot;</td><td>null</td><td>null</td><td>13.560082</td><td>0.097082</td></tr><tr><td>&quot;min&quot;</td><td>&quot;Alice Archer&quot;</td><td>&quot;1981-04-30&quot;</td><td>53.6</td><td>1.56</td></tr><tr><td>&quot;25%&quot;</td><td>null</td><td>&quot;1983-03-22&quot;</td><td>57.9</td><td>1.65</td></tr><tr><td>&quot;50%&quot;</td><td>null</td><td>&quot;1985-02-15&quot;</td><td>72.5</td><td>1.75</td></tr><tr><td>&quot;75%&quot;</td><td>null</td><td>&quot;1985-02-15&quot;</td><td>72.5</td><td>1.75</td></tr><tr><td>&quot;max&quot;</td><td>&quot;Daniel Donovan&quot;</td><td>&quot;1997-01-10&quot;</td><td>83.1</td><td>1.77</td></tr></tbody></table></div>"
      ],
      "text/plain": [
       "shape: (9, 5)\n",
       "┌────────────┬────────────────┬─────────────────────┬───────────┬──────────┐\n",
       "│ statistic  ┆ name           ┆ birthdate           ┆ weight    ┆ height   │\n",
       "│ ---        ┆ ---            ┆ ---                 ┆ ---       ┆ ---      │\n",
       "│ str        ┆ str            ┆ str                 ┆ f64       ┆ f64      │\n",
       "╞════════════╪════════════════╪═════════════════════╪═══════════╪══════════╡\n",
       "│ count      ┆ 4              ┆ 4                   ┆ 4.0       ┆ 4.0      │\n",
       "│ null_count ┆ 0              ┆ 0                   ┆ 0.0       ┆ 0.0      │\n",
       "│ mean       ┆ null           ┆ 1986-09-04 00:00:00 ┆ 66.775    ┆ 1.6825   │\n",
       "│ std        ┆ null           ┆ null                ┆ 13.560082 ┆ 0.097082 │\n",
       "│ min        ┆ Alice Archer   ┆ 1981-04-30          ┆ 53.6      ┆ 1.56     │\n",
       "│ 25%        ┆ null           ┆ 1983-03-22          ┆ 57.9      ┆ 1.65     │\n",
       "│ 50%        ┆ null           ┆ 1985-02-15          ┆ 72.5      ┆ 1.75     │\n",
       "│ 75%        ┆ null           ┆ 1985-02-15          ┆ 72.5      ┆ 1.75     │\n",
       "│ max        ┆ Daniel Donovan ┆ 1997-01-10          ┆ 83.1      ┆ 1.77     │\n",
       "└────────────┴────────────────┴─────────────────────┴───────────┴──────────┘"
      ]
     },
     "execution_count": 8,
     "metadata": {},
     "output_type": "execute_result"
    }
   ],
   "source": [
    "df.describe()"
   ]
  },
  {
   "cell_type": "code",
   "execution_count": 9,
   "id": "2a94d35e-eba9-4ce5-b0de-6d4bbd3673e6",
   "metadata": {},
   "outputs": [],
   "source": [
    "df.write_csv(\"getting_started.csv\")"
   ]
  },
  {
   "cell_type": "code",
   "execution_count": 10,
   "id": "1fa1e942-1574-451d-834f-a2c2ad5e073b",
   "metadata": {},
   "outputs": [
    {
     "data": {
      "text/plain": [
       "<xlsxwriter.workbook.Workbook at 0x7a2dc0234d40>"
      ]
     },
     "execution_count": 10,
     "metadata": {},
     "output_type": "execute_result"
    }
   ],
   "source": [
    "df.write_excel(\"getting_started.xlsx\")"
   ]
  },
  {
   "cell_type": "code",
   "execution_count": 11,
   "id": "85affb0c-8fd4-49bc-be8f-428641e4e895",
   "metadata": {},
   "outputs": [
    {
     "name": "stdout",
     "output_type": "stream",
     "text": [
      "shape: (4, 4)\n",
      "┌────────────────┬────────────┬────────┬────────┐\n",
      "│ name           ┆ birthdate  ┆ weight ┆ height │\n",
      "│ ---            ┆ ---        ┆ ---    ┆ ---    │\n",
      "│ str            ┆ date       ┆ f64    ┆ f64    │\n",
      "╞════════════════╪════════════╪════════╪════════╡\n",
      "│ Alice Archer   ┆ 1997-01-10 ┆ 57.9   ┆ 1.56   │\n",
      "│ Ben Brown      ┆ 1985-02-15 ┆ 72.5   ┆ 1.77   │\n",
      "│ Chloe Cooper   ┆ 1983-03-22 ┆ 53.6   ┆ 1.65   │\n",
      "│ Daniel Donovan ┆ 1981-04-30 ┆ 83.1   ┆ 1.75   │\n",
      "└────────────────┴────────────┴────────┴────────┘\n"
     ]
    }
   ],
   "source": [
    "df_csv = pl.read_csv(\"getting_started.csv\", try_parse_dates=True)\n",
    "print(df_csv)"
   ]
  },
  {
   "cell_type": "code",
   "execution_count": null,
   "id": "21358415-75bf-4ee4-a05b-3ab8d118728c",
   "metadata": {},
   "outputs": [],
   "source": [
    "df_excel = pl.read_excel(\"getting_started.xlsx\")\n",
    "print(df_excel)"
   ]
  }
 ],
 "metadata": {
  "kernelspec": {
   "display_name": "Python 3 (ipykernel)",
   "language": "python",
   "name": "python3"
  },
  "language_info": {
   "codemirror_mode": {
    "name": "ipython",
    "version": 3
   },
   "file_extension": ".py",
   "mimetype": "text/x-python",
   "name": "python",
   "nbconvert_exporter": "python",
   "pygments_lexer": "ipython3",
   "version": "3.12.7"
  }
 },
 "nbformat": 4,
 "nbformat_minor": 5
}
